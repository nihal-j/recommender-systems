{
 "cells": [
  {
   "cell_type": "code",
   "execution_count": 3,
   "metadata": {},
   "outputs": [],
   "source": [
    "import numpy as np\n",
    "import pickle\n",
    "from tqdm import tqdm_notebook\n",
    "import time\n",
    "import random\n",
    "import sys"
   ]
  },
  {
   "cell_type": "code",
   "execution_count": 4,
   "metadata": {},
   "outputs": [],
   "source": [
    "def corrected_mean(matrix):\n",
    "    \n",
    "    if not np.isclose(np.count_nonzero(matrix), 0):\n",
    "        return np.sum(matrix)/np.count_nonzero(matrix)\n",
    "    else:\n",
    "        return 2.5"
   ]
  },
  {
   "cell_type": "code",
   "execution_count": 5,
   "metadata": {},
   "outputs": [],
   "source": [
    "def normalize_ratings(ratingsMatrix):\n",
    "    \n",
    "    normalizedRatingsMatrix = ratingsMatrix.copy()\n",
    "    \n",
    "    for i, userRatings in enumerate(ratingsMatrix):\n",
    "        \n",
    "        if np.count_nonzero(userRatings) == 0:\n",
    "            residue = corrected_mean(ratingsMatrix)\n",
    "        else:\n",
    "            residue = np.sum(userRatings)/np.count_nonzero(userRatings)\n",
    "        \n",
    "        \n",
    "        for j,rating in enumerate(userRatings):\n",
    "            if rating != 0:\n",
    "                normalizedRatingsMatrix[i][j] -= residue\n",
    "            if normalizedRatingsMatrix[i][j] == 0:\n",
    "                normalizedRatingsMatrix[i][j] = 1e-8\n",
    "        \n",
    "    return normalizedRatingsMatrix"
   ]
  },
  {
   "cell_type": "code",
   "execution_count": 6,
   "metadata": {},
   "outputs": [],
   "source": [
    "def pearson_coeff(x, y):\n",
    "    \n",
    "    xMean = np.corrected_mean(x)\n",
    "    yMean = np.corrected_mean(y)\n",
    "    \n",
    "    return np.sum((x - xMean)*(y - yMean)) / ((np.sum((x - xMean)**2))*(np.sum((y - yMean)**2)))"
   ]
  },
  {
   "cell_type": "code",
   "execution_count": 7,
   "metadata": {},
   "outputs": [],
   "source": [
    "def cosine_dist(x, y):\n",
    "    \n",
    "    if np.isclose(np.dot(x,y), 0):\n",
    "        return 0.0\n",
    "    \n",
    "    return np.dot(x, y)/(np.linalg.norm(x)*np.linalg.norm(y))"
   ]
  },
  {
   "cell_type": "code",
   "execution_count": 8,
   "metadata": {},
   "outputs": [],
   "source": [
    "def get_similar_users(ratingsMatrix, userIdx, k):\n",
    "    \n",
    "    similarUsers = []\n",
    "    thisUser = ratingsMatrix[userIdx].copy()\n",
    "    \n",
    "    for i, userRatings in (enumerate(ratingsMatrix)):\n",
    "        \n",
    "        if i == userIdx:\n",
    "            continue\n",
    "        \n",
    "        # similarity = pearson_coeff(userRatings, thisUser)\n",
    "        similarity = cosine_dist(userRatings, thisUser)\n",
    "        \n",
    "        similarUsers.append((i, similarity))\n",
    "        \n",
    "    similarUsers = sorted(similarUsers, key = lambda x: x[1], reverse = True)\n",
    "    \n",
    "    return similarUsers[:k]"
   ]
  },
  {
   "cell_type": "code",
   "execution_count": 9,
   "metadata": {},
   "outputs": [],
   "source": [
    "def predict(ratingsMatrix, normalizedRatingsMatrix, userIdx, itemIdx, k, baseline = False):\n",
    "    \n",
    "    # k = 10\n",
    "    similarUsers = get_similar_users(normalizedRatingsMatrix, userIdx, k)\n",
    "    \n",
    "    predictedRating = 0.0\n",
    "    normalizationFactor = 0.0\n",
    "    mu = corrected_mean(ratingsMatrix)\n",
    "    cnt = 0\n",
    "    b = 0.0\n",
    "    \n",
    "    for (user, similarity) in similarUsers:\n",
    "        \n",
    "        if ratingsMatrix[user][itemIdx] > 0 and similarity > 0: \n",
    "            \n",
    "            # check with and without similarity > 0\n",
    "            \n",
    "            # user's rating should be considered only if they have rated this item\n",
    "            # otherwise the missing value (if considered as zero) may cause problems\n",
    "            # it can be imputed by taking the user's mean rating or item's mean rating, etc.\n",
    "                \n",
    "            if baseline == True:\n",
    "                b = corrected_mean(ratingsMatrix[user,:])\n",
    "            \n",
    "            predictedRating += (ratingsMatrix[user][itemIdx] - b) * similarity\n",
    "            normalizationFactor += similarity\n",
    "\n",
    "    if not np.isclose(normalizationFactor, 0):\n",
    "        predictedRating /= normalizationFactor\n",
    "    else:\n",
    "        return max(1, min(corrected_mean(ratingsMatrix[userIdx,:]) + corrected_mean(ratingsMatrix[:,itemIdx]) - mu, 5.0))\n",
    "    \n",
    "    if baseline == True:\n",
    "        b = corrected_mean(ratingsMatrix[userIdx,:])\n",
    "        predictedRating += b\n",
    "    \n",
    "    return max(1, min(predictedRating, 5.0))"
   ]
  },
  {
   "cell_type": "code",
   "execution_count": 10,
   "metadata": {},
   "outputs": [],
   "source": [
    "def train_test_split(ratingsMatrix, cnt = 1000):\n",
    "    \n",
    "    (rows, cols) = ratingsMatrix.shape\n",
    "    \n",
    "    completeSet = []\n",
    "    for i in (range(rows)):\n",
    "        for j in range(cols):\n",
    "            if ratingsMatrix[i][j] != 0:\n",
    "                completeSet.append((i,j))\n",
    "    random.shuffle(completeSet)\n",
    "    \n",
    "    testSet = random.sample(completeSet, cnt)\n",
    "    trainSet = list(set(completeSet) - set(testSet))\n",
    "    \n",
    "    return trainSet, testSet"
   ]
  },
  {
   "cell_type": "code",
   "execution_count": 13,
   "metadata": {},
   "outputs": [],
   "source": [
    "def evaluate(ratingsMatrix, normalizedRatingsMatrix, testSet, originalMatrix, k, baseline = False):\n",
    "    \n",
    "    N = len(testSet)\n",
    "    rmse = 0\n",
    "    mae = 0\n",
    "    rmseB = 0\n",
    "    maeB = 0\n",
    "    \n",
    "    for i in tqdm_notebook(range(N)):\n",
    "        \n",
    "        predicted = predict(ratingsMatrix, normalizedRatingsMatrix, testSet[i][0], testSet[i][1], k)\n",
    "        baselinePredicted = predict(ratingsMatrix, normalizedRatingsMatrix, testSet[i][0], testSet[i][1], k, True)\n",
    "        actualValue = originalMatrix[testSet[i][0]][testSet[i][1]]\n",
    "        \n",
    "        # print(i)\n",
    "        # print('Predicted: ', predicted)\n",
    "        # print('Predicted (with baseline): ',baselinePredicted)\n",
    "        # print('Actual: ', actualValue)\n",
    "        # print()\n",
    "        \n",
    "        bError = abs(actualValue - baselinePredicted)\n",
    "        error = abs(actualValue - predicted)\n",
    "        \n",
    "        rmse += error**2\n",
    "        rmseB += bError**2\n",
    "        mae += error\n",
    "        maeB += bError\n",
    "        \n",
    "    rmse /= N\n",
    "    rmseB /= N\n",
    "    mae /= N\n",
    "    maeB /= N\n",
    "    \n",
    "    return mae, maeB, rmse, rmseB"
   ]
  },
  {
   "cell_type": "code",
   "execution_count": 15,
   "metadata": {
    "scrolled": true
   },
   "outputs": [
    {
     "data": {
      "application/vnd.jupyter.widget-view+json": {
       "model_id": "c6bee016d6e24aa58052ceb5285e0d87",
       "version_major": 2,
       "version_minor": 0
      },
      "text/plain": [
       "HBox(children=(IntProgress(value=0), HTML(value='')))"
      ]
     },
     "metadata": {},
     "output_type": "display_data"
    },
    {
     "name": "stdout",
     "output_type": "stream",
     "text": [
      "0.7332229591390438 0.653945381833294 0.8997287069437572 0.7658410654834132\n"
     ]
    }
   ],
   "source": [
    "if __name__ == '__main__':\n",
    "    \n",
    "    # ratingsMatrix = np.array([[4,0,0,5,1,0,0],[5,5,4,0,0,0,0],[0,0,0,2,4,5,0],[0,3,0,0,0,0,3]], dtype = float)\n",
    "    # ratingsMatrix = [[4, 0, 0, 5],[5, 5, 4, 0],[0, 0, 0, 2],[0, 3, 0, 0],[1, 2, 0, 1],[0, 4, 3, 1]]\n",
    "    # textMatrix = np.array([[4,0,0,5,1,0,0],[5,5,4,0,0,0,0],[0,0,0,2,4,5,0],[0,3,0,0,0,0,3]], dtype = float)\n",
    "    # normalized = normalize_ratings(textMatrix)\n",
    "    # print(predict(textMatrix, normalized, 0, 0, True))\n",
    "\n",
    "    random.seed(1)\n",
    "\n",
    "    with open('ratingsMatrix_noZeros.pickle', 'rb') as file:\n",
    "        ratingsMatrix = pickle.load(file)\n",
    "    ratingsMatrix = np.array(ratingsMatrix, dtype = float)\n",
    "\n",
    "    originalMatrix = ratingsMatrix.copy()\n",
    "    trainSet, testSet = train_test_split(originalMatrix, 100) #10s\n",
    "\n",
    "    # < 1s\n",
    "    for index in testSet:\n",
    "        ratingsMatrix[index[0]][index[1]] = 0.0\n",
    "\n",
    "    normalizedRatingsMatrix = normalize_ratings(ratingsMatrix)   # 18s\n",
    "    \n",
    "    k = 10\n",
    "    mae, maeB, rmse, rmseB = evaluate(ratingsMatrix, normalizedRatingsMatrix, testSet, originalMatrix, k)\n",
    "    \n",
    "    print(mae, maeB, rmse, rmseB)"
   ]
  },
  {
   "cell_type": "code",
   "execution_count": null,
   "metadata": {},
   "outputs": [],
   "source": []
  }
 ],
 "metadata": {
  "kernelspec": {
   "display_name": "Python 3",
   "language": "python",
   "name": "python3"
  },
  "language_info": {
   "codemirror_mode": {
    "name": "ipython",
    "version": 3
   },
   "file_extension": ".py",
   "mimetype": "text/x-python",
   "name": "python",
   "nbconvert_exporter": "python",
   "pygments_lexer": "ipython3",
   "version": "3.7.3"
  }
 },
 "nbformat": 4,
 "nbformat_minor": 2
}
