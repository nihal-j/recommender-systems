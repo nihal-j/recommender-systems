{
 "cells": [
  {
   "cell_type": "code",
   "execution_count": 1,
   "metadata": {},
   "outputs": [],
   "source": [
    "import numpy as np\n",
    "import pickle\n",
    "from tqdm import tqdm_notebook\n",
    "import time\n",
    "import random\n",
    "import matplotlib.pyplot as plt\n",
    "%matplotlib notebook"
   ]
  },
  {
   "cell_type": "code",
   "execution_count": 2,
   "metadata": {},
   "outputs": [],
   "source": [
    "def corrected_mean(matrix):\n",
    "    \n",
    "    if not np.isclose(np.count_nonzero(matrix), 0):\n",
    "        return np.sum(matrix)/np.count_nonzero(matrix)\n",
    "    else:\n",
    "        return 2.5"
   ]
  },
  {
   "cell_type": "code",
   "execution_count": 3,
   "metadata": {},
   "outputs": [],
   "source": [
    "def normalize_ratings(ratingsMatrix):\n",
    "    \n",
    "    normalizedRatingsMatrix = ratingsMatrix.copy()\n",
    "    \n",
    "    for i, itemRatings in enumerate(ratingsMatrix):\n",
    "        \n",
    "        if np.count_nonzero(itemRatings) == 0:\n",
    "            residue = np.sum(itemRatings)/np.count_nonzero(itemRatings)\n",
    "        else:\n",
    "            residue = corrected_mean(itemRatings)\n",
    "            \n",
    "        for j,rating in enumerate(itemRatings):\n",
    "            if rating != 0:\n",
    "                normalizedRatingsMatrix[i][j] -= residue\n",
    "            if normalizedRatingsMatrix[i][j] == 0:\n",
    "                normalizedRatingsMatrix[i][j] = 1e-15\n",
    "        \n",
    "    return normalizedRatingsMatrix"
   ]
  },
  {
   "cell_type": "code",
   "execution_count": 4,
   "metadata": {},
   "outputs": [],
   "source": [
    "def pearson_coeff(x, y):\n",
    "    \n",
    "    xMean = np.corrected_mean(x)\n",
    "    yMean = np.corrected_mean(y)\n",
    "    \n",
    "    return np.sum((x - xMean)*(y - yMean)) / ((np.sum((x - xMean)**2))*(np.sum((y - yMean)**2)))"
   ]
  },
  {
   "cell_type": "code",
   "execution_count": 5,
   "metadata": {},
   "outputs": [],
   "source": [
    "def cosine_dist(x, y):\n",
    "    \n",
    "    if np.isclose(np.dot(x, y), 0):\n",
    "        return 0.0\n",
    "    \n",
    "    return np.dot(x, y)/(np.linalg.norm(x)*np.linalg.norm(y))"
   ]
  },
  {
   "cell_type": "code",
   "execution_count": 6,
   "metadata": {},
   "outputs": [],
   "source": [
    "def get_similar_items(ratingsMatrix, itemIdx, k):\n",
    "    \n",
    "    similarItems = []\n",
    "    thisItem = ratingsMatrix[itemIdx].copy()\n",
    "    \n",
    "    for i, itemRatings in enumerate(ratingsMatrix):\n",
    "        \n",
    "        if i == itemIdx:\n",
    "            continue\n",
    "        \n",
    "        # similarity = pearson_coeff(itemRatings, thisItem)\n",
    "        similarity = cosine_dist(itemRatings, thisItem)\n",
    "        \n",
    "        similarItems.append((i, similarity))\n",
    "        \n",
    "    similarItems = sorted(similarItems, key = lambda x: x[1], reverse = True)\n",
    "    \n",
    "    return similarItems[:k]"
   ]
  },
  {
   "cell_type": "code",
   "execution_count": 11,
   "metadata": {},
   "outputs": [],
   "source": [
    "def predict(ratingsMatrix, normalizedRatingsMatrix, userIdx, itemIdx, k, baseline = False):\n",
    "    \n",
    "    # k = 10\n",
    "    similarItems = get_similar_items(normalizedRatingsMatrix, itemIdx, k)\n",
    "    \n",
    "    predictedRating = 0.0\n",
    "    normalizationFactor = 0.0\n",
    "    mu = corrected_mean(ratingsMatrix)\n",
    "    b = 0.0\n",
    "    \n",
    "    for (item, similarity) in similarItems:\n",
    "        \n",
    "        if ratingsMatrix[item][userIdx] > 0 and similarity > 0: \n",
    "            \n",
    "            # check with and without similarity > 0\n",
    "            \n",
    "            # user's rating should be considered only if they have rated this item\n",
    "            # otherwise the missing value (if considered as zero) may cause problems\n",
    "            # it can be imputed by taking the user's mean rating or item's mean rating, etc.\n",
    "            if baseline == True:\n",
    "                b = corrected_mean(ratingsMatrix[item,:]) + corrected_mean(ratingsMatrix[:,userIdx]) - mu\n",
    "            \n",
    "            predictedRating += (ratingsMatrix[item][userIdx] - b) * similarity\n",
    "            normalizationFactor += similarity\n",
    "    \n",
    "    if not np.isclose(normalizationFactor, 0):\n",
    "        predictedRating /= normalizationFactor\n",
    "    else:\n",
    "        return max(1, min(corrected_mean(ratingsMatrix[itemIdx,:]) + corrected_mean(ratingsMatrix[:,userIdx]) - mu, 5.0))\n",
    "    \n",
    "    \n",
    "    if baseline == True:\n",
    "        b = corrected_mean(ratingsMatrix[itemIdx,:]) + corrected_mean(ratingsMatrix[:,userIdx]) - mu\n",
    "        predictedRating += b\n",
    "    \n",
    "    return max(1, min(predictedRating, 5.0))"
   ]
  },
  {
   "cell_type": "code",
   "execution_count": 8,
   "metadata": {},
   "outputs": [],
   "source": [
    "def train_test_split(ratingsMatrix, cnt = 1000):\n",
    "    \n",
    "    (rows, cols) = ratingsMatrix.shape\n",
    "    \n",
    "    completeSet = []\n",
    "    for i in (range(rows)):\n",
    "        for j in range(cols):\n",
    "            if ratingsMatrix[i][j] != 0:\n",
    "                completeSet.append((i,j))\n",
    "    random.shuffle(completeSet)\n",
    "    \n",
    "    testSet = random.sample(completeSet, cnt)\n",
    "    trainSet = list(set(completeSet) - set(testSet))\n",
    "    \n",
    "    return trainSet, testSet"
   ]
  },
  {
   "cell_type": "code",
   "execution_count": 9,
   "metadata": {},
   "outputs": [],
   "source": [
    "def evaluate(ratingsMatrix, normalizedRatingsMatrix, testSet, originalMatrix, k):\n",
    "    \n",
    "    N = len(testSet)\n",
    "    rmse = 0\n",
    "    mae = 0\n",
    "    rmseB = 0\n",
    "    maeB = 0\n",
    "    \n",
    "    for i in tqdm_notebook(range(N)):\n",
    "        \n",
    "        # predicted = predict(ratingsMatrix, normalizedRatingsMatrix, testSet[i][1], testSet[i][0], k)\n",
    "        baselinePredicted = predict(ratingsMatrix, normalizedRatingsMatrix, testSet[i][1], testSet[i][0], k, True)\n",
    "        actualValue = originalMatrix[testSet[i][0]][testSet[i][1]]\n",
    "        \n",
    "        # print(i)\n",
    "        # print('Predicted: ', predicted)\n",
    "        # print('Predicted (with baseline): ',baselinePredicted)\n",
    "        # print('Actual: ', actualValue)\n",
    "        # print()\n",
    "        \n",
    "        \n",
    "        bError = abs(actualValue - baselinePredicted)\n",
    "        # error = abs(actualValue - predicted)\n",
    "        \n",
    "        # rmse += error**2\n",
    "        rmseB += bError**2\n",
    "        # mae += error\n",
    "        maeB += bError\n",
    "        \n",
    "    # rmse /= N\n",
    "    rmseB /= N\n",
    "    # mae /= N\n",
    "    maeB /= N\n",
    "    \n",
    "    return mae, maeB, rmse**0.5, rmseB**0.5"
   ]
  },
  {
   "cell_type": "code",
   "execution_count": 10,
   "metadata": {
    "scrolled": true
   },
   "outputs": [
    {
     "name": "stdout",
     "output_type": "stream",
     "text": [
      "k =  1\n"
     ]
    },
    {
     "data": {
      "application/vnd.jupyter.widget-view+json": {
       "model_id": "3f5060eb985d4637b988bb92c18fce98",
       "version_major": 2,
       "version_minor": 0
      },
      "text/plain": [
       "HBox(children=(IntProgress(value=0), HTML(value='')))"
      ]
     },
     "metadata": {},
     "output_type": "display_data"
    },
    {
     "name": "stdout",
     "output_type": "stream",
     "text": [
      "\n",
      "0.6622439191442236 0.9160462233364645\n",
      "\n",
      "k =  2\n"
     ]
    },
    {
     "data": {
      "application/vnd.jupyter.widget-view+json": {
       "model_id": "4acd11af2c4b42e892a76bf19601fa60",
       "version_major": 2,
       "version_minor": 0
      },
      "text/plain": [
       "HBox(children=(IntProgress(value=0), HTML(value='')))"
      ]
     },
     "metadata": {},
     "output_type": "display_data"
    },
    {
     "name": "stdout",
     "output_type": "stream",
     "text": [
      "\n",
      "0.6982556746155042 0.9583697949595296\n",
      "\n",
      "k =  5\n"
     ]
    },
    {
     "data": {
      "application/vnd.jupyter.widget-view+json": {
       "model_id": "830e68922a484db6b3d4ff9051295168",
       "version_major": 2,
       "version_minor": 0
      },
      "text/plain": [
       "HBox(children=(IntProgress(value=0), HTML(value='')))"
      ]
     },
     "metadata": {},
     "output_type": "display_data"
    },
    {
     "name": "stdout",
     "output_type": "stream",
     "text": [
      "\n",
      "0.6832862816698182 0.9577136398274662\n",
      "\n",
      "k =  10\n"
     ]
    },
    {
     "data": {
      "application/vnd.jupyter.widget-view+json": {
       "model_id": "098f8d2701ad405d9d4621c3259eb240",
       "version_major": 2,
       "version_minor": 0
      },
      "text/plain": [
       "HBox(children=(IntProgress(value=0), HTML(value='')))"
      ]
     },
     "metadata": {},
     "output_type": "display_data"
    },
    {
     "name": "stdout",
     "output_type": "stream",
     "text": [
      "\n",
      "0.6493803573684548 0.8588126331236605\n",
      "\n",
      "k =  20\n"
     ]
    },
    {
     "data": {
      "application/vnd.jupyter.widget-view+json": {
       "model_id": "3fa324fedd7c411e9b0270191d6021df",
       "version_major": 2,
       "version_minor": 0
      },
      "text/plain": [
       "HBox(children=(IntProgress(value=0), HTML(value='')))"
      ]
     },
     "metadata": {},
     "output_type": "display_data"
    },
    {
     "name": "stdout",
     "output_type": "stream",
     "text": [
      "\n",
      "0.6642447951201663 0.8225278861041915\n",
      "\n",
      "k =  50\n"
     ]
    },
    {
     "data": {
      "application/vnd.jupyter.widget-view+json": {
       "model_id": "2639494ddbae451f9cf97cde4c1c4732",
       "version_major": 2,
       "version_minor": 0
      },
      "text/plain": [
       "HBox(children=(IntProgress(value=0), HTML(value='')))"
      ]
     },
     "metadata": {},
     "output_type": "display_data"
    },
    {
     "name": "stdout",
     "output_type": "stream",
     "text": [
      "\n",
      "0.6581536940708922 0.8422737092388167\n",
      "\n",
      "k =  100\n"
     ]
    },
    {
     "data": {
      "application/vnd.jupyter.widget-view+json": {
       "model_id": "17b98272918e42298ca2bb0e3c34f19c",
       "version_major": 2,
       "version_minor": 0
      },
      "text/plain": [
       "HBox(children=(IntProgress(value=0), HTML(value='')))"
      ]
     },
     "metadata": {},
     "output_type": "display_data"
    },
    {
     "name": "stdout",
     "output_type": "stream",
     "text": [
      "\n",
      "0.6675568136265443 0.843796111258866\n",
      "\n"
     ]
    },
    {
     "data": {
      "image/png": "[encoded data removed]",
      "text/plain": [
       "<Figure size 432x288 with 1 Axes>"
      ]
     },
     "metadata": {
      "needs_background": "light"
     },
     "output_type": "display_data"
    }
   ],
   "source": [
    "if __name__ == '__main__':\n",
    "    \n",
    "    random.seed(42)\n",
    "    with open('ratingsMatrix_noZeros.pickle', 'rb') as file:\n",
    "        ratingsMatrix = pickle.load(file)\n",
    "    ratingsMatrix = np.array(ratingsMatrix, dtype = float)\n",
    "    ratingsMatrix = ratingsMatrix.T\n",
    "\n",
    "    originalMatrix = ratingsMatrix.copy()\n",
    "    trainSet, testSet = train_test_split(originalMatrix, 100)\n",
    "\n",
    "    for index in testSet:\n",
    "        ratingsMatrix[index[0]][index[1]] = 0.0\n",
    "\n",
    "    normalizedRatingsMatrix = normalize_ratings(ratingsMatrix)\n",
    "    \n",
    "    kValues = [1, 2, 5, 10, 20, 50, 100]\n",
    "    maes = []\n",
    "    rmses = []\n",
    "\n",
    "    for k in kValues:\n",
    "        print('k = ', k)\n",
    "        mae, maeB, rmse, rmseB = evaluate(ratingsMatrix, normalizedRatingsMatrix, testSet, originalMatrix, k)\n",
    "        print(maeB, rmseB)\n",
    "        maes.append(maeB)\n",
    "        rmses.append(rmseB)\n",
    "        print()\n",
    "        \n",
    "    plt.xlabel('k')\n",
    "    plt.ylabel('MAE')\n",
    "    plt.plot(kValues, maes)\n",
    "    plt.savefig('kvalues.png')"
   ]
  },
  {
   "cell_type": "code",
   "execution_count": null,
   "metadata": {},
   "outputs": [],
   "source": [
    "# # textMatrix = np.array([[4,0,0,5,1,0,0],[5,5,4,0,0,0,0],[0,0,0,2,4,5,0],[0,3,0,0,0,0,3]], dtype = float)\n",
    "\n",
    "# textMatrix = np.array([\n",
    "# [1,0,2,0,0,1],[0,0,4,2,0,0],\n",
    "# [3,5,0,4,4,3],[0,4,1,0,3,0],\n",
    "# [0,0,2,5,4,3],[5,0,0,0,2,0],\n",
    "# [0,4,3,0,0,0],[0,0,0,4,0,2],\n",
    "# [5,0,4,0,0,0],[0,2,3,0,0,0],\n",
    "# [4,1,5,2,2,4],[0,3,0,0,5,0]], dtype = float)\n",
    "# textMatrix = textMatrix.T\n",
    "\n",
    "# # print(textMatrix)\n",
    "# normalized = normalize_ratings(textMatrix)\n",
    "# print(normalized)\n",
    "\n",
    "# # print(get_similar_items(normalized, 0, 5))\n",
    "# print(predict(textMatrix, normalized, 4, 0, True))"
   ]
  },
  {
   "cell_type": "code",
   "execution_count": null,
   "metadata": {},
   "outputs": [],
   "source": []
  }
 ],
 "metadata": {
  "kernelspec": {
   "display_name": "Python 3",
   "language": "python",
   "name": "python3"
  },
  "language_info": {
   "codemirror_mode": {
    "name": "ipython",
    "version": 3
   },
   "file_extension": ".py",
   "mimetype": "text/x-python",
   "name": "python",
   "nbconvert_exporter": "python",
   "pygments_lexer": "ipython3",
   "version": "3.7.3"
  }
 },
 "nbformat": 4,
 "nbformat_minor": 2
}
